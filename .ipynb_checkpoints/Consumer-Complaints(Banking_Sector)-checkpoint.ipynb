{
 "cells": [
  {
   "cell_type": "code",
   "execution_count": null,
   "metadata": {},
   "outputs": [],
   "source": [
    "#reading the consumer_complaints csv file to see the what it contains. I will be using cc in short to mean consumer_complaints\n",
    "import pandas as pd\n",
    "import numpy as np\n",
    "\n",
    "cc = pd.read_csv('C:/Users/daisy/Desktop/data/Consumer_Complaints.csv', low_memory=False)\n",
    "\n",
    "cc = cc.replace(np.nan,'0', regex=True)\n",
    "\n",
    "cc.head()\n"
   ]
  },
  {
   "cell_type": "code",
   "execution_count": null,
   "metadata": {},
   "outputs": [],
   "source": []
  }
 ],
 "metadata": {
  "kernelspec": {
   "display_name": "Python 3",
   "language": "python",
   "name": "python3"
  },
  "language_info": {
   "codemirror_mode": {
    "name": "ipython",
    "version": 3
   },
   "file_extension": ".py",
   "mimetype": "text/x-python",
   "name": "python",
   "nbconvert_exporter": "python",
   "pygments_lexer": "ipython3",
   "version": "3.7.7"
  }
 },
 "nbformat": 4,
 "nbformat_minor": 4
}
